{
 "cells": [
  {
   "cell_type": "code",
   "execution_count": 20,
   "metadata": {},
   "outputs": [],
   "source": [
    "import pandas as pd\n",
    "import numpy as np\n",
    "import os\n",
    "import matplotlib.pyplot as plt\n",
    "import seaborn as sns\n",
    "from scipy.stats import shapiro\n",
    "from scipy.stats import mannwhitneyu\n",
    "from scipy.stats import zscore\n",
    "from scipy.stats import levene\n",
    "from sklearn.cluster import DBSCAN"
   ]
  },
  {
   "cell_type": "code",
   "execution_count": 4,
   "metadata": {},
   "outputs": [
    {
     "data": {
      "text/html": [
       "<div>\n",
       "<style scoped>\n",
       "    .dataframe tbody tr th:only-of-type {\n",
       "        vertical-align: middle;\n",
       "    }\n",
       "\n",
       "    .dataframe tbody tr th {\n",
       "        vertical-align: top;\n",
       "    }\n",
       "\n",
       "    .dataframe thead th {\n",
       "        text-align: right;\n",
       "    }\n",
       "</style>\n",
       "<table border=\"1\" class=\"dataframe\">\n",
       "  <thead>\n",
       "    <tr style=\"text-align: right;\">\n",
       "      <th></th>\n",
       "      <th>Unnamed: 0</th>\n",
       "      <th>id</th>\n",
       "      <th>Enrol_Season</th>\n",
       "      <th>Age</th>\n",
       "      <th>Sex</th>\n",
       "      <th>CGAS-Season</th>\n",
       "      <th>CGAS-Score</th>\n",
       "      <th>Physical-Season</th>\n",
       "      <th>Physical-BMI</th>\n",
       "      <th>Physical-Height</th>\n",
       "      <th>...</th>\n",
       "      <th>PCIAT-PCIAT_18</th>\n",
       "      <th>PCIAT-PCIAT_19</th>\n",
       "      <th>PCIAT-PCIAT_20</th>\n",
       "      <th>PCIAT-PCIAT_Total</th>\n",
       "      <th>SDS-Season</th>\n",
       "      <th>SDS-SDS_Total_Raw</th>\n",
       "      <th>SDS-SDS_Total_T</th>\n",
       "      <th>PreInt_EduHx-Season</th>\n",
       "      <th>PreInt_EduHx-computerinternet_hoursday</th>\n",
       "      <th>sii</th>\n",
       "    </tr>\n",
       "  </thead>\n",
       "  <tbody>\n",
       "    <tr>\n",
       "      <th>0</th>\n",
       "      <td>0</td>\n",
       "      <td>00008ff9</td>\n",
       "      <td>Fall</td>\n",
       "      <td>5</td>\n",
       "      <td>0</td>\n",
       "      <td>Winter</td>\n",
       "      <td>51.0</td>\n",
       "      <td>Fall</td>\n",
       "      <td>16.877316</td>\n",
       "      <td>46.0</td>\n",
       "      <td>...</td>\n",
       "      <td>4.0</td>\n",
       "      <td>2.0</td>\n",
       "      <td>4.0</td>\n",
       "      <td>55.0</td>\n",
       "      <td>NaN</td>\n",
       "      <td>NaN</td>\n",
       "      <td>NaN</td>\n",
       "      <td>Fall</td>\n",
       "      <td>3.0</td>\n",
       "      <td>2.0</td>\n",
       "    </tr>\n",
       "    <tr>\n",
       "      <th>1</th>\n",
       "      <td>1</td>\n",
       "      <td>000fd460</td>\n",
       "      <td>Summer</td>\n",
       "      <td>9</td>\n",
       "      <td>0</td>\n",
       "      <td>NaN</td>\n",
       "      <td>NaN</td>\n",
       "      <td>Fall</td>\n",
       "      <td>14.035590</td>\n",
       "      <td>48.0</td>\n",
       "      <td>...</td>\n",
       "      <td>0.0</td>\n",
       "      <td>0.0</td>\n",
       "      <td>0.0</td>\n",
       "      <td>0.0</td>\n",
       "      <td>Fall</td>\n",
       "      <td>46.0</td>\n",
       "      <td>64.0</td>\n",
       "      <td>Summer</td>\n",
       "      <td>0.0</td>\n",
       "      <td>0.0</td>\n",
       "    </tr>\n",
       "    <tr>\n",
       "      <th>2</th>\n",
       "      <td>2</td>\n",
       "      <td>00105258</td>\n",
       "      <td>Summer</td>\n",
       "      <td>10</td>\n",
       "      <td>1</td>\n",
       "      <td>Fall</td>\n",
       "      <td>71.0</td>\n",
       "      <td>Fall</td>\n",
       "      <td>16.648696</td>\n",
       "      <td>56.5</td>\n",
       "      <td>...</td>\n",
       "      <td>2.0</td>\n",
       "      <td>1.0</td>\n",
       "      <td>1.0</td>\n",
       "      <td>28.0</td>\n",
       "      <td>Fall</td>\n",
       "      <td>38.0</td>\n",
       "      <td>54.0</td>\n",
       "      <td>Summer</td>\n",
       "      <td>2.0</td>\n",
       "      <td>0.0</td>\n",
       "    </tr>\n",
       "    <tr>\n",
       "      <th>3</th>\n",
       "      <td>3</td>\n",
       "      <td>00115b9f</td>\n",
       "      <td>Winter</td>\n",
       "      <td>9</td>\n",
       "      <td>0</td>\n",
       "      <td>Fall</td>\n",
       "      <td>71.0</td>\n",
       "      <td>Summer</td>\n",
       "      <td>18.292347</td>\n",
       "      <td>56.0</td>\n",
       "      <td>...</td>\n",
       "      <td>3.0</td>\n",
       "      <td>4.0</td>\n",
       "      <td>1.0</td>\n",
       "      <td>44.0</td>\n",
       "      <td>Summer</td>\n",
       "      <td>31.0</td>\n",
       "      <td>45.0</td>\n",
       "      <td>Winter</td>\n",
       "      <td>0.0</td>\n",
       "      <td>1.0</td>\n",
       "    </tr>\n",
       "    <tr>\n",
       "      <th>4</th>\n",
       "      <td>4</td>\n",
       "      <td>0016bb22</td>\n",
       "      <td>Spring</td>\n",
       "      <td>18</td>\n",
       "      <td>1</td>\n",
       "      <td>Summer</td>\n",
       "      <td>NaN</td>\n",
       "      <td>NaN</td>\n",
       "      <td>NaN</td>\n",
       "      <td>NaN</td>\n",
       "      <td>...</td>\n",
       "      <td>NaN</td>\n",
       "      <td>NaN</td>\n",
       "      <td>NaN</td>\n",
       "      <td>NaN</td>\n",
       "      <td>NaN</td>\n",
       "      <td>NaN</td>\n",
       "      <td>NaN</td>\n",
       "      <td>NaN</td>\n",
       "      <td>NaN</td>\n",
       "      <td>NaN</td>\n",
       "    </tr>\n",
       "  </tbody>\n",
       "</table>\n",
       "<p>5 rows × 83 columns</p>\n",
       "</div>"
      ],
      "text/plain": [
       "   Unnamed: 0        id Enrol_Season  Age  Sex CGAS-Season  CGAS-Score  \\\n",
       "0           0  00008ff9         Fall    5    0      Winter        51.0   \n",
       "1           1  000fd460       Summer    9    0         NaN         NaN   \n",
       "2           2  00105258       Summer   10    1        Fall        71.0   \n",
       "3           3  00115b9f       Winter    9    0        Fall        71.0   \n",
       "4           4  0016bb22       Spring   18    1      Summer         NaN   \n",
       "\n",
       "  Physical-Season  Physical-BMI  Physical-Height  ...  PCIAT-PCIAT_18  \\\n",
       "0            Fall     16.877316             46.0  ...             4.0   \n",
       "1            Fall     14.035590             48.0  ...             0.0   \n",
       "2            Fall     16.648696             56.5  ...             2.0   \n",
       "3          Summer     18.292347             56.0  ...             3.0   \n",
       "4             NaN           NaN              NaN  ...             NaN   \n",
       "\n",
       "   PCIAT-PCIAT_19  PCIAT-PCIAT_20  PCIAT-PCIAT_Total  SDS-Season  \\\n",
       "0             2.0             4.0               55.0         NaN   \n",
       "1             0.0             0.0                0.0        Fall   \n",
       "2             1.0             1.0               28.0        Fall   \n",
       "3             4.0             1.0               44.0      Summer   \n",
       "4             NaN             NaN                NaN         NaN   \n",
       "\n",
       "  SDS-SDS_Total_Raw  SDS-SDS_Total_T  PreInt_EduHx-Season  \\\n",
       "0               NaN              NaN                 Fall   \n",
       "1              46.0             64.0               Summer   \n",
       "2              38.0             54.0               Summer   \n",
       "3              31.0             45.0               Winter   \n",
       "4               NaN              NaN                  NaN   \n",
       "\n",
       "   PreInt_EduHx-computerinternet_hoursday  sii  \n",
       "0                                     3.0  2.0  \n",
       "1                                     0.0  0.0  \n",
       "2                                     2.0  0.0  \n",
       "3                                     0.0  1.0  \n",
       "4                                     NaN  NaN  \n",
       "\n",
       "[5 rows x 83 columns]"
      ]
     },
     "execution_count": 4,
     "metadata": {},
     "output_type": "execute_result"
    }
   ],
   "source": [
    "df_hbn = pd.read_csv('../data/HBN.csv')\n",
    "df_hbn.head()"
   ]
  },
  {
   "cell_type": "code",
   "execution_count": 7,
   "metadata": {},
   "outputs": [
    {
     "name": "stdout",
     "output_type": "stream",
     "text": [
      "<class 'pandas.core.frame.DataFrame'>\n",
      "RangeIndex: 3960 entries, 0 to 3959\n",
      "Data columns (total 2 columns):\n",
      " #   Column       Non-Null Count  Dtype  \n",
      "---  ------       --------------  -----  \n",
      " 0   BIA-BIA_SMM  1991 non-null   float64\n",
      " 1   Sex          3960 non-null   int64  \n",
      "dtypes: float64(1), int64(1)\n",
      "memory usage: 62.0 KB\n"
     ]
    }
   ],
   "source": [
    "df_hypo_smm = df_hbn[['BIA-BIA_SMM','Sex']]\n",
    "df_hypo_smm.info()"
   ]
  },
  {
   "cell_type": "code",
   "execution_count": 23,
   "metadata": {},
   "outputs": [
    {
     "name": "stdout",
     "output_type": "stream",
     "text": [
      "       BIA-BIA_SMM     Sex\n",
      "count  1258.000000  2484.0\n",
      "mean     33.407844     0.0\n",
      "std      19.579849     0.0\n",
      "min       4.655730     0.0\n",
      "25%      21.239225     0.0\n",
      "50%      27.489950     0.0\n",
      "75%      39.740575     0.0\n",
      "max     254.611000     0.0\n",
      "       BIA-BIA_SMM     Sex\n",
      "count   733.000000  1476.0\n",
      "mean     36.074160     1.0\n",
      "std     136.171174     0.0\n",
      "min      12.726700     1.0\n",
      "25%      21.032200     1.0\n",
      "50%      27.304100     1.0\n",
      "75%      36.280400     1.0\n",
      "max    3607.690000     1.0\n"
     ]
    }
   ],
   "source": [
    "df_smm_male = df_hypo_smm[df_hypo_smm['Sex']==0]\n",
    "df_smm_female = df_hypo_smm[df_hypo_smm['Sex']==1]\n",
    "print(df_smm_male.describe())\n",
    "print(df_smm_female.describe())\n",
    "\n"
   ]
  },
  {
   "cell_type": "code",
   "execution_count": 10,
   "metadata": {},
   "outputs": [
    {
     "data": {
      "image/png": "[encoded data removed]",
      "text/plain": [
       "<Figure size 800x600 with 1 Axes>"
      ]
     },
     "metadata": {},
     "output_type": "display_data"
    },
    {
     "data": {
      "image/png": "[encoded data removed]",
      "text/plain": [
       "<Figure size 800x600 with 1 Axes>"
      ]
     },
     "metadata": {},
     "output_type": "display_data"
    }
   ],
   "source": [
    "plt.figure(figsize=(8, 6))\n",
    "sns.boxplot(data=df_smm_male['BIA-BIA_SMM'])\n",
    "plt.show()\n",
    "\n",
    "plt.figure(figsize=(8, 6))\n",
    "sns.boxplot(data=df_smm_female['BIA-BIA_SMM'])\n",
    "plt.show()"
   ]
  },
  {
   "cell_type": "code",
   "execution_count": 25,
   "metadata": {},
   "outputs": [],
   "source": [
    "df_smm_female = df_smm_female.dropna(axis=0)\n",
    "df_smm_male = df_smm_male.dropna(axis=0)"
   ]
  },
  {
   "cell_type": "code",
   "execution_count": 29,
   "metadata": {},
   "outputs": [
    {
     "name": "stdout",
     "output_type": "stream",
     "text": [
      "داده‌های خوشه‌بندی شده:\n",
      "      BIA-BIA_SMM  Sex  Cluster\n",
      "5         35.3804    1        0\n",
      "7         28.7680    1        0\n",
      "45        46.5891    1        0\n",
      "51        38.5561    1        0\n",
      "52        41.0700    1        0\n",
      "...           ...  ...      ...\n",
      "3924      27.3057    1        0\n",
      "3925      20.3503    1        0\n",
      "3936      33.9367    1        0\n",
      "3949      40.4123    1        0\n",
      "3954      18.0937    1        0\n",
      "\n",
      "[728 rows x 3 columns]\n",
      "\n",
      "Outlierها:\n",
      "      BIA-BIA_SMM  Sex  Cluster\n",
      "2299      223.449    1       -1\n",
      "3205     3607.690    1       -1\n",
      "3511      823.028    1       -1\n",
      "3630      178.002    1       -1\n",
      "3729      193.219    1       -1\n"
     ]
    }
   ],
   "source": [
    "dbscan = DBSCAN(eps=10, min_samples=2)\n",
    "df_smm_female['Cluster'] = dbscan.fit_predict(df_smm_female[['BIA-BIA_SMM', 'Sex']])  # استفاده از ستون‌های ویژگی‌ها\n",
    "\n",
    "# 2. نمایش خوشه‌ها و outlierها\n",
    "outliers = df_smm_female[df_smm_female['Cluster'] == -1]  # خوشه -1 نشان‌دهنده outlierهاست\n",
    "clustered_data = df_smm_female[df_smm_female['Cluster'] != -1]\n",
    "\n",
    "print(\"داده‌های خوشه‌بندی شده:\")\n",
    "print(clustered_data)\n",
    "\n",
    "print(\"\\nOutlierها:\")\n",
    "print(outliers)\n"
   ]
  },
  {
   "cell_type": "code",
   "execution_count": 30,
   "metadata": {},
   "outputs": [
    {
     "name": "stdout",
     "output_type": "stream",
     "text": [
      "داده‌های خوشه‌بندی شده:\n",
      "      BIA-BIA_SMM  Sex  Cluster\n",
      "0         19.5413    0        0\n",
      "1         15.4107    0        0\n",
      "3         26.4798    0        0\n",
      "6         26.1957    0        0\n",
      "12        36.2232    0        0\n",
      "...           ...  ...      ...\n",
      "3952      54.2027    0        0\n",
      "3953      20.2645    0        0\n",
      "3955      29.7790    0        0\n",
      "3957      28.7792    0        0\n",
      "3958      45.4340    0        0\n",
      "\n",
      "[1254 rows x 3 columns]\n",
      "\n",
      "Outlierها:\n",
      "      BIA-BIA_SMM  Sex  Cluster\n",
      "2490      254.611    0       -1\n",
      "2738      151.025    0       -1\n",
      "3091      132.636    0       -1\n",
      "3774      215.413    0       -1\n"
     ]
    }
   ],
   "source": [
    "dbscan = DBSCAN(eps=10, min_samples=2)\n",
    "df_smm_male['Cluster'] = dbscan.fit_predict(df_smm_male[['BIA-BIA_SMM', 'Sex']])  # استفاده از ستون‌های ویژگی‌ها\n",
    "\n",
    "# 2. نمایش خوشه‌ها و outlierها\n",
    "outliers = df_smm_male[df_smm_male['Cluster'] == -1]  # خوشه -1 نشان‌دهنده outlierهاست\n",
    "clustered_data = df_smm_male[df_smm_male['Cluster'] != -1]\n",
    "\n",
    "print(\"داده‌های خوشه‌بندی شده:\")\n",
    "print(clustered_data)\n",
    "\n",
    "print(\"\\nOutlierها:\")\n",
    "print(outliers)\n"
   ]
  },
  {
   "cell_type": "code",
   "execution_count": 31,
   "metadata": {},
   "outputs": [],
   "source": [
    "df_smm_female = df_smm_female.drop([3205,3511])"
   ]
  },
  {
   "cell_type": "code",
   "execution_count": 32,
   "metadata": {},
   "outputs": [
    {
     "name": "stdout",
     "output_type": "stream",
     "text": [
      "P-value for group with disorder: 3.3456320245338384e-41\n",
      "P-value for group without disorder: 1.7730921943667725e-36\n"
     ]
    }
   ],
   "source": [
    "stat1, p1 = shapiro(df_smm_male['BIA-BIA_SMM'])\n",
    "stat2, p2 = shapiro(df_smm_female['BIA-BIA_SMM'])\n",
    "\n",
    "print(f\"P-value for group with disorder: {p1}\")\n",
    "print(f\"P-value for group without disorder: {p2}\")"
   ]
  },
  {
   "cell_type": "code",
   "execution_count": 33,
   "metadata": {},
   "outputs": [
    {
     "name": "stdout",
     "output_type": "stream",
     "text": [
      "P-value: 0.019777825265443454\n"
     ]
    }
   ],
   "source": [
    "stat, p = mannwhitneyu(df_smm_male['BIA-BIA_SMM'], df_smm_female['BIA-BIA_SMM'])\n",
    "print(f\"P-value: {p}\")"
   ]
  },
  {
   "cell_type": "markdown",
   "metadata": {},
   "source": [
    "توضیح اینکه با توجه به پی ولیو تفاوت مشهودی وجود دارد "
   ]
  },
  {
   "cell_type": "code",
   "execution_count": 35,
   "metadata": {},
   "outputs": [
    {
     "name": "stdout",
     "output_type": "stream",
     "text": [
      "<class 'pandas.core.frame.DataFrame'>\n",
      "RangeIndex: 3960 entries, 0 to 3959\n",
      "Data columns (total 2 columns):\n",
      " #   Column       Non-Null Count  Dtype  \n",
      "---  ------       --------------  -----  \n",
      " 0   BIA-BIA_SMM  1991 non-null   float64\n",
      " 1   Age          3960 non-null   int64  \n",
      "dtypes: float64(1), int64(1)\n",
      "memory usage: 62.0 KB\n"
     ]
    }
   ],
   "source": [
    "df_hypo_smm_age = df_hbn[['BIA-BIA_SMM','Age']]\n",
    "df_hypo_smm_age.info()"
   ]
  },
  {
   "cell_type": "code",
   "execution_count": 37,
   "metadata": {},
   "outputs": [
    {
     "name": "stdout",
     "output_type": "stream",
     "text": [
      "       BIA-BIA_SMM          Age\n",
      "count  1597.000000  3155.000000\n",
      "mean     30.143963     8.996197\n",
      "std      92.801893     2.216697\n",
      "min       4.655730     5.000000\n",
      "25%      20.258600     7.000000\n",
      "50%      24.897600     9.000000\n",
      "75%      31.577200    11.000000\n",
      "max    3607.690000    13.000000\n",
      "       BIA-BIA_SMM         Age\n",
      "count   394.000000  805.000000\n",
      "mean     51.597760   16.067081\n",
      "std      20.666287    1.939501\n",
      "min      21.268700   14.000000\n",
      "25%      39.482125   15.000000\n",
      "50%      47.798500   16.000000\n",
      "75%      58.418875   17.000000\n",
      "max     254.611000   22.000000\n"
     ]
    }
   ],
   "source": [
    "df_smm_child = df_hypo_smm_age[df_hypo_smm_age['Age'] <= 13]\n",
    "df_smm_teen = df_hypo_smm_age[df_hypo_smm_age['Age'] >= 14]\n",
    "print(df_smm_child.describe())\n",
    "print(df_smm_teen.describe())"
   ]
  },
  {
   "cell_type": "code",
   "execution_count": 38,
   "metadata": {},
   "outputs": [
    {
     "data": {
      "image/png": "[encoded data removed]",
      "text/plain": [
       "<Figure size 800x600 with 1 Axes>"
      ]
     },
     "metadata": {},
     "output_type": "display_data"
    },
    {
     "data": {
      "image/png": "[encoded data removed]",
      "text/plain": [
       "<Figure size 800x600 with 1 Axes>"
      ]
     },
     "metadata": {},
     "output_type": "display_data"
    }
   ],
   "source": [
    "plt.figure(figsize=(8, 6))\n",
    "sns.boxplot(data=df_smm_child['BIA-BIA_SMM'])\n",
    "plt.show()\n",
    "\n",
    "plt.figure(figsize=(8, 6))\n",
    "sns.boxplot(data=df_smm_teen['BIA-BIA_SMM'])\n",
    "plt.show()"
   ]
  },
  {
   "cell_type": "code",
   "execution_count": 39,
   "metadata": {},
   "outputs": [],
   "source": [
    "df_smm_child = df_smm_child.drop([3205,3511])"
   ]
  },
  {
   "cell_type": "code",
   "execution_count": 40,
   "metadata": {},
   "outputs": [
    {
     "data": {
      "image/png": "[encoded data removed]",
      "text/plain": [
       "<Figure size 800x600 with 1 Axes>"
      ]
     },
     "metadata": {},
     "output_type": "display_data"
    }
   ],
   "source": [
    "plt.figure(figsize=(8, 6))\n",
    "sns.boxplot(data=df_smm_child['BIA-BIA_SMM'])\n",
    "plt.show()"
   ]
  },
  {
   "cell_type": "code",
   "execution_count": 42,
   "metadata": {},
   "outputs": [],
   "source": [
    "df_smm_child = df_smm_child.dropna(axis=0)\n",
    "df_smm_teen = df_smm_teen.dropna(axis=0)"
   ]
  },
  {
   "cell_type": "code",
   "execution_count": 43,
   "metadata": {},
   "outputs": [
    {
     "name": "stdout",
     "output_type": "stream",
     "text": [
      "P-value for group with disorder: 1.2126175558793571e-51\n",
      "P-value for group without disorder: 2.3382115641270135e-25\n"
     ]
    }
   ],
   "source": [
    "stat1, p1 = shapiro(df_smm_child['BIA-BIA_SMM'])\n",
    "stat2, p2 = shapiro(df_smm_teen['BIA-BIA_SMM'])\n",
    "\n",
    "print(f\"P-value for group with disorder: {p1}\")\n",
    "print(f\"P-value for group without disorder: {p2}\")"
   ]
  },
  {
   "cell_type": "code",
   "execution_count": 44,
   "metadata": {},
   "outputs": [
    {
     "name": "stdout",
     "output_type": "stream",
     "text": [
      "P-value: 5.076072754233372e-152\n"
     ]
    }
   ],
   "source": [
    "stat, p = mannwhitneyu(df_smm_child['BIA-BIA_SMM'], df_smm_teen['BIA-BIA_SMM'])\n",
    "print(f\"P-value: {p}\")"
   ]
  },
  {
   "cell_type": "markdown",
   "metadata": {},
   "source": [
    "تفاوت مشهوده"
   ]
  }
 ],
 "metadata": {
  "kernelspec": {
   "display_name": "Python 3",
   "language": "python",
   "name": "python3"
  },
  "language_info": {
   "codemirror_mode": {
    "name": "ipython",
    "version": 3
   },
   "file_extension": ".py",
   "mimetype": "text/x-python",
   "name": "python",
   "nbconvert_exporter": "python",
   "pygments_lexer": "ipython3",
   "version": "3.9.6"
  }
 },
 "nbformat": 4,
 "nbformat_minor": 2
}
