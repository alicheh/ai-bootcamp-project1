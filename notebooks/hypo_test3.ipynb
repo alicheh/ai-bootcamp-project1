{
 "cells": [
  {
   "cell_type": "code",
   "execution_count": 39,
   "metadata": {},
   "outputs": [],
   "source": [
    "import pandas as pd\n",
    "import numpy as np\n",
    "import os\n",
    "import matplotlib.pyplot as plt\n",
    "import seaborn as sns\n",
    "from scipy.stats import chi2_contingency\n",
    "from scipy import stats\n",
    "\n"
   ]
  },
  {
   "cell_type": "code",
   "execution_count": 30,
   "metadata": {},
   "outputs": [
    {
     "data": {
      "text/html": [
       "<div>\n",
       "<style scoped>\n",
       "    .dataframe tbody tr th:only-of-type {\n",
       "        vertical-align: middle;\n",
       "    }\n",
       "\n",
       "    .dataframe tbody tr th {\n",
       "        vertical-align: top;\n",
       "    }\n",
       "\n",
       "    .dataframe thead th {\n",
       "        text-align: right;\n",
       "    }\n",
       "</style>\n",
       "<table border=\"1\" class=\"dataframe\">\n",
       "  <thead>\n",
       "    <tr style=\"text-align: right;\">\n",
       "      <th></th>\n",
       "      <th>Unnamed: 0</th>\n",
       "      <th>id</th>\n",
       "      <th>Enrol_Season</th>\n",
       "      <th>Age</th>\n",
       "      <th>Sex</th>\n",
       "      <th>CGAS-Season</th>\n",
       "      <th>CGAS-Score</th>\n",
       "      <th>Physical-Season</th>\n",
       "      <th>Physical-BMI</th>\n",
       "      <th>Physical-Height</th>\n",
       "      <th>...</th>\n",
       "      <th>PCIAT-PCIAT_18</th>\n",
       "      <th>PCIAT-PCIAT_19</th>\n",
       "      <th>PCIAT-PCIAT_20</th>\n",
       "      <th>PCIAT-PCIAT_Total</th>\n",
       "      <th>SDS-Season</th>\n",
       "      <th>SDS-SDS_Total_Raw</th>\n",
       "      <th>SDS-SDS_Total_T</th>\n",
       "      <th>PreInt_EduHx-Season</th>\n",
       "      <th>PreInt_EduHx-computerinternet_hoursday</th>\n",
       "      <th>sii</th>\n",
       "    </tr>\n",
       "  </thead>\n",
       "  <tbody>\n",
       "    <tr>\n",
       "      <th>0</th>\n",
       "      <td>0</td>\n",
       "      <td>00008ff9</td>\n",
       "      <td>Fall</td>\n",
       "      <td>5</td>\n",
       "      <td>0</td>\n",
       "      <td>Winter</td>\n",
       "      <td>51.0</td>\n",
       "      <td>Fall</td>\n",
       "      <td>16.877316</td>\n",
       "      <td>46.0</td>\n",
       "      <td>...</td>\n",
       "      <td>4.0</td>\n",
       "      <td>2.0</td>\n",
       "      <td>4.0</td>\n",
       "      <td>55.0</td>\n",
       "      <td>NaN</td>\n",
       "      <td>NaN</td>\n",
       "      <td>NaN</td>\n",
       "      <td>Fall</td>\n",
       "      <td>3.0</td>\n",
       "      <td>2.0</td>\n",
       "    </tr>\n",
       "    <tr>\n",
       "      <th>1</th>\n",
       "      <td>1</td>\n",
       "      <td>000fd460</td>\n",
       "      <td>Summer</td>\n",
       "      <td>9</td>\n",
       "      <td>0</td>\n",
       "      <td>NaN</td>\n",
       "      <td>NaN</td>\n",
       "      <td>Fall</td>\n",
       "      <td>14.035590</td>\n",
       "      <td>48.0</td>\n",
       "      <td>...</td>\n",
       "      <td>0.0</td>\n",
       "      <td>0.0</td>\n",
       "      <td>0.0</td>\n",
       "      <td>0.0</td>\n",
       "      <td>Fall</td>\n",
       "      <td>46.0</td>\n",
       "      <td>64.0</td>\n",
       "      <td>Summer</td>\n",
       "      <td>0.0</td>\n",
       "      <td>0.0</td>\n",
       "    </tr>\n",
       "    <tr>\n",
       "      <th>2</th>\n",
       "      <td>2</td>\n",
       "      <td>00105258</td>\n",
       "      <td>Summer</td>\n",
       "      <td>10</td>\n",
       "      <td>1</td>\n",
       "      <td>Fall</td>\n",
       "      <td>71.0</td>\n",
       "      <td>Fall</td>\n",
       "      <td>16.648696</td>\n",
       "      <td>56.5</td>\n",
       "      <td>...</td>\n",
       "      <td>2.0</td>\n",
       "      <td>1.0</td>\n",
       "      <td>1.0</td>\n",
       "      <td>28.0</td>\n",
       "      <td>Fall</td>\n",
       "      <td>38.0</td>\n",
       "      <td>54.0</td>\n",
       "      <td>Summer</td>\n",
       "      <td>2.0</td>\n",
       "      <td>0.0</td>\n",
       "    </tr>\n",
       "    <tr>\n",
       "      <th>3</th>\n",
       "      <td>3</td>\n",
       "      <td>00115b9f</td>\n",
       "      <td>Winter</td>\n",
       "      <td>9</td>\n",
       "      <td>0</td>\n",
       "      <td>Fall</td>\n",
       "      <td>71.0</td>\n",
       "      <td>Summer</td>\n",
       "      <td>18.292347</td>\n",
       "      <td>56.0</td>\n",
       "      <td>...</td>\n",
       "      <td>3.0</td>\n",
       "      <td>4.0</td>\n",
       "      <td>1.0</td>\n",
       "      <td>44.0</td>\n",
       "      <td>Summer</td>\n",
       "      <td>31.0</td>\n",
       "      <td>45.0</td>\n",
       "      <td>Winter</td>\n",
       "      <td>0.0</td>\n",
       "      <td>1.0</td>\n",
       "    </tr>\n",
       "    <tr>\n",
       "      <th>4</th>\n",
       "      <td>4</td>\n",
       "      <td>0016bb22</td>\n",
       "      <td>Spring</td>\n",
       "      <td>18</td>\n",
       "      <td>1</td>\n",
       "      <td>Summer</td>\n",
       "      <td>NaN</td>\n",
       "      <td>NaN</td>\n",
       "      <td>NaN</td>\n",
       "      <td>NaN</td>\n",
       "      <td>...</td>\n",
       "      <td>NaN</td>\n",
       "      <td>NaN</td>\n",
       "      <td>NaN</td>\n",
       "      <td>NaN</td>\n",
       "      <td>NaN</td>\n",
       "      <td>NaN</td>\n",
       "      <td>NaN</td>\n",
       "      <td>NaN</td>\n",
       "      <td>NaN</td>\n",
       "      <td>NaN</td>\n",
       "    </tr>\n",
       "  </tbody>\n",
       "</table>\n",
       "<p>5 rows × 83 columns</p>\n",
       "</div>"
      ],
      "text/plain": [
       "   Unnamed: 0        id Enrol_Season  Age  Sex CGAS-Season  CGAS-Score  \\\n",
       "0           0  00008ff9         Fall    5    0      Winter        51.0   \n",
       "1           1  000fd460       Summer    9    0         NaN         NaN   \n",
       "2           2  00105258       Summer   10    1        Fall        71.0   \n",
       "3           3  00115b9f       Winter    9    0        Fall        71.0   \n",
       "4           4  0016bb22       Spring   18    1      Summer         NaN   \n",
       "\n",
       "  Physical-Season  Physical-BMI  Physical-Height  ...  PCIAT-PCIAT_18  \\\n",
       "0            Fall     16.877316             46.0  ...             4.0   \n",
       "1            Fall     14.035590             48.0  ...             0.0   \n",
       "2            Fall     16.648696             56.5  ...             2.0   \n",
       "3          Summer     18.292347             56.0  ...             3.0   \n",
       "4             NaN           NaN              NaN  ...             NaN   \n",
       "\n",
       "   PCIAT-PCIAT_19  PCIAT-PCIAT_20  PCIAT-PCIAT_Total  SDS-Season  \\\n",
       "0             2.0             4.0               55.0         NaN   \n",
       "1             0.0             0.0                0.0        Fall   \n",
       "2             1.0             1.0               28.0        Fall   \n",
       "3             4.0             1.0               44.0      Summer   \n",
       "4             NaN             NaN                NaN         NaN   \n",
       "\n",
       "  SDS-SDS_Total_Raw  SDS-SDS_Total_T  PreInt_EduHx-Season  \\\n",
       "0               NaN              NaN                 Fall   \n",
       "1              46.0             64.0               Summer   \n",
       "2              38.0             54.0               Summer   \n",
       "3              31.0             45.0               Winter   \n",
       "4               NaN              NaN                  NaN   \n",
       "\n",
       "   PreInt_EduHx-computerinternet_hoursday  sii  \n",
       "0                                     3.0  2.0  \n",
       "1                                     0.0  0.0  \n",
       "2                                     2.0  0.0  \n",
       "3                                     0.0  1.0  \n",
       "4                                     NaN  NaN  \n",
       "\n",
       "[5 rows x 83 columns]"
      ]
     },
     "execution_count": 30,
     "metadata": {},
     "output_type": "execute_result"
    }
   ],
   "source": [
    "df_hbn = pd.read_csv('../data/HBN.csv')\n",
    "df_hbn.head()"
   ]
  },
  {
   "cell_type": "code",
   "execution_count": 31,
   "metadata": {},
   "outputs": [
    {
     "name": "stdout",
     "output_type": "stream",
     "text": [
      "<class 'pandas.core.frame.DataFrame'>\n",
      "RangeIndex: 3960 entries, 0 to 3959\n",
      "Data columns (total 4 columns):\n",
      " #   Column                                  Non-Null Count  Dtype  \n",
      "---  ------                                  --------------  -----  \n",
      " 0   BIA-BIA_Activity_Level_num              1991 non-null   float64\n",
      " 1   PreInt_EduHx-computerinternet_hoursday  3301 non-null   float64\n",
      " 2   BIA-Season                              2145 non-null   object \n",
      " 3   PreInt_EduHx-Season                     3540 non-null   object \n",
      "dtypes: float64(2), object(2)\n",
      "memory usage: 123.9+ KB\n"
     ]
    }
   ],
   "source": [
    "df = df_hbn [['BIA-BIA_Activity_Level_num','PreInt_EduHx-computerinternet_hoursday','BIA-Season','PreInt_EduHx-Season']]\n",
    "df.info()"
   ]
  },
  {
   "cell_type": "code",
   "execution_count": 32,
   "metadata": {},
   "outputs": [
    {
     "name": "stdout",
     "output_type": "stream",
     "text": [
      "<class 'pandas.core.frame.DataFrame'>\n",
      "Index: 876 entries, 0 to 3955\n",
      "Data columns (total 4 columns):\n",
      " #   Column                                  Non-Null Count  Dtype  \n",
      "---  ------                                  --------------  -----  \n",
      " 0   BIA-BIA_Activity_Level_num              751 non-null    float64\n",
      " 1   PreInt_EduHx-computerinternet_hoursday  852 non-null    float64\n",
      " 2   BIA-Season                              876 non-null    object \n",
      " 3   PreInt_EduHx-Season                     876 non-null    object \n",
      "dtypes: float64(2), object(2)\n",
      "memory usage: 34.2+ KB\n"
     ]
    }
   ],
   "source": [
    "df = df[df['BIA-Season'] == df['PreInt_EduHx-Season']]\n",
    "df.info()"
   ]
  },
  {
   "cell_type": "code",
   "execution_count": 33,
   "metadata": {},
   "outputs": [
    {
     "data": {
      "text/html": [
       "<div>\n",
       "<style scoped>\n",
       "    .dataframe tbody tr th:only-of-type {\n",
       "        vertical-align: middle;\n",
       "    }\n",
       "\n",
       "    .dataframe tbody tr th {\n",
       "        vertical-align: top;\n",
       "    }\n",
       "\n",
       "    .dataframe thead th {\n",
       "        text-align: right;\n",
       "    }\n",
       "</style>\n",
       "<table border=\"1\" class=\"dataframe\">\n",
       "  <thead>\n",
       "    <tr style=\"text-align: right;\">\n",
       "      <th></th>\n",
       "      <th>BIA-BIA_Activity_Level_num</th>\n",
       "      <th>PreInt_EduHx-computerinternet_hoursday</th>\n",
       "    </tr>\n",
       "  </thead>\n",
       "  <tbody>\n",
       "    <tr>\n",
       "      <th>0</th>\n",
       "      <td>2.0</td>\n",
       "      <td>3.0</td>\n",
       "    </tr>\n",
       "    <tr>\n",
       "      <th>6</th>\n",
       "      <td>2.0</td>\n",
       "      <td>3.0</td>\n",
       "    </tr>\n",
       "    <tr>\n",
       "      <th>7</th>\n",
       "      <td>3.0</td>\n",
       "      <td>2.0</td>\n",
       "    </tr>\n",
       "    <tr>\n",
       "      <th>18</th>\n",
       "      <td>2.0</td>\n",
       "      <td>3.0</td>\n",
       "    </tr>\n",
       "    <tr>\n",
       "      <th>22</th>\n",
       "      <td>1.0</td>\n",
       "      <td>0.0</td>\n",
       "    </tr>\n",
       "  </tbody>\n",
       "</table>\n",
       "</div>"
      ],
      "text/plain": [
       "    BIA-BIA_Activity_Level_num  PreInt_EduHx-computerinternet_hoursday\n",
       "0                          2.0                                     3.0\n",
       "6                          2.0                                     3.0\n",
       "7                          3.0                                     2.0\n",
       "18                         2.0                                     3.0\n",
       "22                         1.0                                     0.0"
      ]
     },
     "execution_count": 33,
     "metadata": {},
     "output_type": "execute_result"
    }
   ],
   "source": [
    "df = df.drop(['BIA-Season','PreInt_EduHx-Season'],axis = 1)\n",
    "df.head()"
   ]
  },
  {
   "cell_type": "code",
   "execution_count": 34,
   "metadata": {},
   "outputs": [
    {
     "name": "stdout",
     "output_type": "stream",
     "text": [
      "       BIA-BIA_Activity_Level_num  PreInt_EduHx-computerinternet_hoursday\n",
      "count                  297.000000                              297.000000\n",
      "mean                     2.468013                                2.235690\n",
      "std                      0.982870                                0.425146\n",
      "min                      1.000000                                2.000000\n",
      "25%                      2.000000                                2.000000\n",
      "50%                      2.000000                                2.000000\n",
      "75%                      3.000000                                2.000000\n",
      "max                      5.000000                                3.000000\n",
      "       BIA-BIA_Activity_Level_num  PreInt_EduHx-computerinternet_hoursday\n",
      "count                  433.000000                              433.000000\n",
      "mean                     2.713626                                0.177829\n",
      "std                      1.021176                                0.382811\n",
      "min                      1.000000                                0.000000\n",
      "25%                      2.000000                                0.000000\n",
      "50%                      3.000000                                0.000000\n",
      "75%                      3.000000                                0.000000\n",
      "max                      5.000000                                1.000000\n"
     ]
    }
   ],
   "source": [
    "df = df.dropna()\n",
    "df_more_than_2hours = df[df['PreInt_EduHx-computerinternet_hoursday'] >= 2]\n",
    "df_less_than_2hours = df[df['PreInt_EduHx-computerinternet_hoursday'] < 2]\n",
    "print(df_more_than_2hours.describe())\n",
    "print(df_less_than_2hours.describe()) \n"
   ]
  },
  {
   "cell_type": "code",
   "execution_count": 35,
   "metadata": {},
   "outputs": [
    {
     "data": {
      "image/png": "[encoded data removed]",
      "text/plain": [
       "<Figure size 1200x600 with 1 Axes>"
      ]
     },
     "metadata": {},
     "output_type": "display_data"
    }
   ],
   "source": [
    "plt.figure(figsize=(12, 6))\n",
    "\n",
    "sns.kdeplot(df_more_than_2hours['PreInt_EduHx-computerinternet_hoursday'], color='blue', label='More than 2 hours')\n",
    "\n",
    "\n",
    "sns.kdeplot(df_less_than_2hours['PreInt_EduHx-computerinternet_hoursday'], color='red', label='Less than 2 hours')\n",
    "\n",
    "plt.title('Distribution of PreInt_EduHx-computerinternet_hoursday')\n",
    "plt.xlabel('PreInt_EduHx-computerinternet_hoursday')\n",
    "plt.ylabel('Frequency')\n",
    "plt.legend()\n",
    "plt.show()"
   ]
  },
  {
   "cell_type": "code",
   "execution_count": 40,
   "metadata": {},
   "outputs": [
    {
     "name": "stdout",
     "output_type": "stream",
     "text": [
      "Shapiro-Wilk for >=2 hours: Stat=0.8948556976364798, p=1.749018859303419e-13\n",
      "Shapiro-Wilk for <2 hours: Stat=0.9084948820863403, p=1.7020269862438095e-15\n"
     ]
    }
   ],
   "source": [
    "stat_more, p_more = stats.shapiro(df_more_than_2hours['BIA-BIA_Activity_Level_num'])\n",
    "print(f\"Shapiro-Wilk for >=2 hours: Stat={stat_more}, p={p_more}\")\n",
    "\n",
    "# For < 2 hours\n",
    "stat_less, p_less = stats.shapiro(df_less_than_2hours['BIA-BIA_Activity_Level_num'])\n",
    "print(f\"Shapiro-Wilk for <2 hours: Stat={stat_less}, p={p_less}\")"
   ]
  },
  {
   "cell_type": "code",
   "execution_count": 41,
   "metadata": {},
   "outputs": [
    {
     "name": "stdout",
     "output_type": "stream",
     "text": [
      "Mann-Whitney U: U-statistic=55622.5, p-value=0.0012036685980652336\n"
     ]
    }
   ],
   "source": [
    "u_stat, p_value = stats.mannwhitneyu(df_more_than_2hours['BIA-BIA_Activity_Level_num'],\n",
    "                                      df_less_than_2hours['BIA-BIA_Activity_Level_num'])\n",
    "print(f\"Mann-Whitney U: U-statistic={u_stat}, p-value={p_value}\")"
   ]
  },
  {
   "cell_type": "code",
   "execution_count": 24,
   "metadata": {},
   "outputs": [
    {
     "name": "stdout",
     "output_type": "stream",
     "text": [
      "<class 'pandas.core.frame.DataFrame'>\n",
      "RangeIndex: 3960 entries, 0 to 3959\n",
      "Data columns (total 2 columns):\n",
      " #   Column                                  Non-Null Count  Dtype  \n",
      "---  ------                                  --------------  -----  \n",
      " 0   BIA-BIA_Activity_Level_num              1991 non-null   float64\n",
      " 1   PreInt_EduHx-computerinternet_hoursday  3301 non-null   float64\n",
      "dtypes: float64(2)\n",
      "memory usage: 62.0 KB\n"
     ]
    }
   ],
   "source": [
    "df_apx  = df_hbn[['BIA-BIA_Activity_Level_num','PreInt_EduHx-computerinternet_hoursday']]\n",
    "df_apx.info()"
   ]
  },
  {
   "cell_type": "code",
   "execution_count": 25,
   "metadata": {},
   "outputs": [],
   "source": [
    "df_apx =df_apx.dropna(axis=0)"
   ]
  },
  {
   "cell_type": "code",
   "execution_count": null,
   "metadata": {},
   "outputs": [],
   "source": [
    "df_apx_more_than_2hours = df_apx[df_apx['PreInt_EduHx-computerinternet_hoursday'] >= 2]\n",
    "df_apx_less_than_2hours = df_apx[df_apx['PreInt_EduHx-computerinternet_hoursday'] < 2]"
   ]
  },
  {
   "cell_type": "code",
   "execution_count": 43,
   "metadata": {},
   "outputs": [
    {
     "name": "stdout",
     "output_type": "stream",
     "text": [
      "Mann-Whitney U: U-statistic=418981.5, p-value=0.018221436264837212\n"
     ]
    }
   ],
   "source": [
    "u_stat, p_value = stats.mannwhitneyu(df_apx_more_than_2hours['BIA-BIA_Activity_Level_num'],\n",
    "                                      df_apx_less_than_2hours['BIA-BIA_Activity_Level_num'])\n",
    "print(f\"Mann-Whitney U: U-statistic={u_stat}, p-value={p_value}\")"
   ]
  }
 ],
 "metadata": {
  "kernelspec": {
   "display_name": "Python 3",
   "language": "python",
   "name": "python3"
  },
  "language_info": {
   "codemirror_mode": {
    "name": "ipython",
    "version": 3
   },
   "file_extension": ".py",
   "mimetype": "text/x-python",
   "name": "python",
   "nbconvert_exporter": "python",
   "pygments_lexer": "ipython3",
   "version": "3.9.6"
  }
 },
 "nbformat": 4,
 "nbformat_minor": 2
}
