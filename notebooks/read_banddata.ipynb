{
 "cells": [
  {
   "cell_type": "code",
   "execution_count": 2,
   "metadata": {},
   "outputs": [],
   "source": [
    "import pyarrow.parquet as pa \n",
    "import pandas as pd\n",
    "import numpy as np\n",
    "from pandas import DataFrame\n",
    "import matplotlib.pyplot as plt\n",
    "import os"
   ]
  },
  {
   "cell_type": "code",
   "execution_count": 3,
   "metadata": {},
   "outputs": [
    {
     "data": {
      "text/plain": [
       "count    37760.0\n",
       "mean         0.0\n",
       "std          0.0\n",
       "min          0.0\n",
       "25%          0.0\n",
       "50%          0.0\n",
       "75%          0.0\n",
       "max          0.0\n",
       "Name: non-wear_flag, dtype: float64"
      ]
     },
     "execution_count": 3,
     "metadata": {},
     "output_type": "execute_result"
    }
   ],
   "source": [
    "table = pa.read_table('../data/part-0.parquet')\n",
    "df1 = table.to_pandas()\n",
    "df1['non-wear_flag'].describe()\n"
   ]
  },
  {
   "cell_type": "code",
   "execution_count": 4,
   "metadata": {},
   "outputs": [
    {
     "name": "stdout",
     "output_type": "stream",
     "text": [
      "<class 'pandas.core.frame.DataFrame'>\n",
      "RangeIndex: 37760 entries, 0 to 37759\n",
      "Data columns (total 13 columns):\n",
      " #   Column               Non-Null Count  Dtype  \n",
      "---  ------               --------------  -----  \n",
      " 0   step                 37760 non-null  uint32 \n",
      " 1   X                    37760 non-null  float32\n",
      " 2   Y                    37760 non-null  float32\n",
      " 3   Z                    37760 non-null  float32\n",
      " 4   enmo                 37760 non-null  float32\n",
      " 5   anglez               37760 non-null  float32\n",
      " 6   non-wear_flag        37760 non-null  float32\n",
      " 7   light                37760 non-null  float32\n",
      " 8   battery_voltage      37760 non-null  float32\n",
      " 9   time_of_day          37760 non-null  int64  \n",
      " 10  weekday              37760 non-null  int8   \n",
      " 11  quarter              37760 non-null  int8   \n",
      " 12  relative_date_PCIAT  37760 non-null  float32\n",
      "dtypes: float32(9), int64(1), int8(2), uint32(1)\n",
      "memory usage: 1.8 MB\n",
      "None\n"
     ]
    }
   ],
   "source": [
    "df2 = pa.read_table('../data/part-0.parquet').to_pandas()\n",
    "\n",
    "print(df2.info())\n"
   ]
  },
  {
   "cell_type": "code",
   "execution_count": 5,
   "metadata": {},
   "outputs": [],
   "source": [
    "df2['datetime'] = pd.to_datetime(df2['time_of_day'], unit='ns')\n",
    "df2['time'] = df2['datetime'].apply(lambda x: x.time()) "
   ]
  },
  {
   "cell_type": "code",
   "execution_count": null,
   "metadata": {},
   "outputs": [],
   "source": [
    "df2['time_of_day'] = df2['time_of_day'] / (10 ** 9) # convert ns to s\n",
    "df2.head()\n"
   ]
  },
  {
   "cell_type": "code",
   "execution_count": null,
   "metadata": {},
   "outputs": [],
   "source": [
    "df2['time_of_day'].hist()"
   ]
  },
  {
   "cell_type": "code",
   "execution_count": 7,
   "metadata": {},
   "outputs": [
    {
     "data": {
      "text/plain": [
       "<Axes: >"
      ]
     },
     "execution_count": 7,
     "metadata": {},
     "output_type": "execute_result"
    },
    {
     "data": {
      "image/png": "[encoded data removed]",
      "text/plain": [
       "<Figure size 640x480 with 1 Axes>"
      ]
     },
     "metadata": {},
     "output_type": "display_data"
    }
   ],
   "source": [
    "df2['weekday'].plot()"
   ]
  },
  {
   "cell_type": "code",
   "execution_count": 8,
   "metadata": {},
   "outputs": [
    {
     "data": {
      "text/plain": [
       "<Axes: >"
      ]
     },
     "execution_count": 8,
     "metadata": {},
     "output_type": "execute_result"
    },
    {
     "data": {
      "image/png": "[encoded data removed]",
      "text/plain": [
       "<Figure size 640x480 with 1 Axes>"
      ]
     },
     "metadata": {},
     "output_type": "display_data"
    }
   ],
   "source": [
    "df1['weekday'].plot()"
   ]
  },
  {
   "cell_type": "code",
   "execution_count": null,
   "metadata": {},
   "outputs": [],
   "source": [
    "df2['time_of_day'].plot()"
   ]
  },
  {
   "cell_type": "code",
   "execution_count": 76,
   "metadata": {},
   "outputs": [],
   "source": [
    "df2['time_of_day'] = df2['time_of_day'] / (10 ** 9) # convert ns to s"
   ]
  },
  {
   "cell_type": "code",
   "execution_count": 9,
   "metadata": {},
   "outputs": [
    {
     "name": "stdout",
     "output_type": "stream",
     "text": [
      "    day_number  weekday\n",
      "0            2        5\n",
      "1            3        6\n",
      "2            4        7\n",
      "3            5        1\n",
      "4            6        2\n",
      "5            7        3\n",
      "6            8        4\n",
      "7            9        5\n",
      "8           10        6\n",
      "9           11        7\n",
      "10          12        1\n",
      "11          13        2\n",
      "12          14        3\n",
      "13          15        4\n",
      "14          16        5\n",
      "15          17        6\n",
      "16          18        7\n",
      "17          19        1\n",
      "18          20        2\n",
      "19          21        3\n",
      "20          22        6\n",
      "21          23        7\n",
      "22          24        1\n",
      "23          25        2\n",
      "24          26        3\n",
      "25          27        4\n",
      "26          28        5\n",
      "27          29        6\n",
      "28          30        7\n",
      "29          31        1\n",
      "30          32        2\n",
      "31          33        3\n",
      "32          34        4\n",
      "33          35        5\n",
      "34          36        6\n",
      "35          37        1\n",
      "36          38        2\n"
     ]
    }
   ],
   "source": [
    "# 1) Detect day changes\n",
    "df2['day_change'] = df2['weekday'].ne(df2['weekday'].shift(1))\n",
    "# Explanation: \n",
    "#   .shift(1) looks at the previous row’s day_of_week\n",
    "#   .ne(...) means \"not equal\" (True if they differ, False if they’re equal)\n",
    "\n",
    "# 2) Build a day_number by taking the cumulative sum of these changes.\n",
    "#    We fill missing values for the first row with False and then add 1.\n",
    "df2['day_change'] = df2['day_change'].fillna(False)\n",
    "df2['day_number'] = df2['day_change'].cumsum() + 1\n",
    "\n",
    "# Now df['day_number'] goes from 1 up to the total count of days (e.g. 30).\n",
    "\n",
    "# 3) Compute the mean of 'light' for each calendar day\n",
    "daily_mean_light = df2.groupby('day_number')['weekday']\n",
    "df_daily = df2.groupby('day_number')['light'].mean()\n",
    "\n",
    "day_map = (\n",
    "    df2\n",
    "    .groupby('day_number')['weekday']\n",
    "    .first()  # Or .unique() if you like\n",
    "    .reset_index()\n",
    ")\n",
    "\n",
    "print(day_map)\n",
    "# Reindex the daily data to days 1..30\n",
    "df_daily = df_daily.reindex(range(1, 31))\n"
   ]
  },
  {
   "cell_type": "code",
   "execution_count": 10,
   "metadata": {},
   "outputs": [
    {
     "name": "stdout",
     "output_type": "stream",
     "text": [
      "[ 1  2  3  4  5  6  7  8  9 10 11 12 13 14 15 16 17 18 19 20 21 22 23 24\n",
      " 25 26 27 28 29 30]\n",
      "(30,)\n",
      "    day_number  weekday\n",
      "0            1        5\n",
      "1            2        6\n",
      "2            3        7\n",
      "3            4        1\n",
      "4            5        2\n",
      "5            6        3\n",
      "6            7        4\n",
      "7            8        5\n",
      "8            9        6\n",
      "9           10        7\n",
      "10          11        1\n",
      "11          12        2\n",
      "12          13        3\n",
      "13          14        4\n",
      "14          15        5\n",
      "15          16        6\n",
      "16          17        7\n",
      "17          18        1\n",
      "18          19        2\n",
      "19          20        3\n",
      "20          21        4\n",
      "21          22        5\n",
      "22          23        6\n",
      "23          24        7\n",
      "24          25        1\n",
      "25          26        2\n",
      "26          27        3\n",
      "27          28        4\n",
      "28          29        5\n",
      "29          30        6\n"
     ]
    }
   ],
   "source": [
    "temp30 = np.arange(1, 31, 1)\n",
    "print(temp30)\n",
    "print(temp30.shape)\n",
    "month = pd.DataFrame(temp30, columns=['day_number'])\n",
    "month['weekday'] = (month['day_number']+3) % 7 + 1\n",
    "print(month)"
   ]
  },
  {
   "cell_type": "code",
   "execution_count": 11,
   "metadata": {},
   "outputs": [
    {
     "name": "stdout",
     "output_type": "stream",
     "text": [
      "    day_number  weekday  day_number_r_  weekday_r_\n",
      "0            1        5              3           6\n",
      "1            2        6              4           7\n",
      "2            3        7              5           1\n",
      "3            4        1              6           2\n",
      "4            5        2              7           3\n",
      "5            6        3              8           4\n",
      "6            7        4              9           5\n",
      "7            8        5             10           6\n",
      "8            9        6             11           7\n",
      "9           10        7             12           1\n",
      "10          11        1             13           2\n",
      "11          12        2             14           3\n",
      "12          13        3             15           4\n",
      "13          14        4             16           5\n",
      "14          15        5             17           6\n",
      "15          16        6             18           7\n",
      "16          17        7             19           1\n",
      "17          18        1             20           2\n",
      "18          19        2             21           3\n",
      "19          20        3             22           6\n",
      "20          21        4             23           7\n",
      "21          22        5             24           1\n",
      "22          23        6             25           2\n",
      "23          24        7             26           3\n",
      "24          25        1             27           4\n",
      "25          26        2             28           5\n",
      "26          27        3             29           6\n",
      "27          28        4             30           7\n",
      "28          29        5             31           1\n",
      "29          30        6             32           2\n"
     ]
    }
   ],
   "source": [
    "print(month.join(day_map, on='day_number', how='left', rsuffix='_r_'))"
   ]
  },
  {
   "cell_type": "code",
   "execution_count": 12,
   "metadata": {},
   "outputs": [
    {
     "data": {
      "text/plain": [
       "<Axes: >"
      ]
     },
     "execution_count": 12,
     "metadata": {},
     "output_type": "execute_result"
    },
    {
     "data": {
      "image/png": "[encoded data removed]",
      "text/plain": [
       "<Figure size 1800x500 with 1 Axes>"
      ]
     },
     "metadata": {},
     "output_type": "display_data"
    }
   ],
   "source": [
    "df2.enmo.hist(figsize=(18,5), bins=500, color='red', alpha=0.5)"
   ]
  },
  {
   "cell_type": "markdown",
   "metadata": {},
   "source": [
    "# Read folder of parquets: "
   ]
  },
  {
   "cell_type": "code",
   "execution_count": 13,
   "metadata": {},
   "outputs": [],
   "source": [
    "def process_dataframe(df: DataFrame) -> DataFrame:\n",
    "\n",
    "    # convert ns to s\n",
    "    df['time_of_day'] = df['time_of_day'] / (10 ** 9) # convert ns to s\n",
    "\n",
    "    # get day number for aggregation\n",
    "\n",
    "def get_clean_df(df: DataFrame, item_id:str) -> DataFrame:\n",
    "    # add 'day_number' to dataframe\n",
    "    # add 'user_id to dataframe\n",
    "    # drop 'non-wear_flag' == 1\n",
    "\n",
    "    df_temp = df.copy()\n",
    "    df_temp['day_change'] = df_temp['weekday'].ne(df_temp['weekday'].shift(1))\n",
    "    # Explanation: \n",
    "    #   .shift(1) looks at the previous row’s day_of_week\n",
    "    #   .ne(...) means \"not equal\" (True if they differ, False if they’re equal)\n",
    "\n",
    "    # 2) Build a day_number by taking the cumulative sum of these changes.\n",
    "    #    We fill missing values for the first row with False and then add 1.\n",
    "    df_temp['day_change'] = df_temp['day_change'].fillna(False)\n",
    "    df_temp['day_number'] = df_temp['day_change'].cumsum()\n",
    "\n",
    "    df_temp['user_id'] = item_id\n",
    "    df_temp = df_temp[df_temp['non-wear_flag'] == 0]\n",
    "    \n",
    "    return df_temp\n",
    "\n",
    "\n",
    "\n",
    "# get daily light\n",
    "def get_daily_light_and_steps(df: DataFrame) -> DataFrame:\n",
    "    df_daily_light = pd.DataFrame(df.groupby(['day_number','weekday'], as_index=False)\n",
    "                                  .aggregate({'light': 'mean', 'enmo': 'sum', 'quarter': 'first'})\n",
    "                                .rename(columns={'light': 'daily_light_mean', 'enmo': 'daily_steps'}))\n",
    "\n",
    "    return df_daily_light\n",
    "\n",
    "def get_daily_steps(df: DataFrame) -> DataFrame:\n",
    "    df_daily_steps = pd.DataFrame(df.groupby(['day_number','weekday'])['enmo'].sum())\n",
    "    return df_daily_steps\n",
    "\n"
   ]
  },
  {
   "cell_type": "code",
   "execution_count": 14,
   "metadata": {},
   "outputs": [],
   "source": [
    "def read_parquet_files(data_directory='data') -> DataFrame:\n",
    "    \n",
    "    data_dir = data_directory\n",
    "    steps_light_df = pd.DataFrame()\n",
    "    print(len(os.listdir(data_dir)))\n",
    "    for item_name in os.listdir(data_dir):\n",
    "        item_path = os.path.join(data_dir, item_name)\n",
    "\n",
    "        if os.path.isdir(item_path) and item_name.startswith(\"id=\"):\n",
    "            item_id = item_name.split(\"=\")[1]\n",
    "            parquet_file_path = os.path.join(item_path, 'part-0.parquet')\n",
    "            \n",
    "            if os.path.exists(parquet_file_path):\n",
    "                # print(f\"Now processing: {parquet_file_path}\")\n",
    "                \n",
    "                df = pd.read_parquet(parquet_file_path)\n",
    "                df = get_clean_df(df, item_id=item_id)\n",
    "                \n",
    "                # print(df.head())\n",
    "                daily_lights = get_daily_light_and_steps(df)\n",
    "                # print(daily_lights.shape)\n",
    "                daily_lights['user_id'] = item_id\n",
    "                # print(daily_lights)\n",
    "                steps_light_df = pd.concat([steps_light_df, daily_lights])\n",
    "                \n",
    "                del df\n",
    "    return steps_light_df\n",
    "\n",
    "# result = read_parquet_files(data_directory='data')\n",
    "# print(result.shape)\n",
    "# print(result)\n",
    "# result.to_csv('steps_light.csv', index=True)\n"
   ]
  },
  {
   "cell_type": "code",
   "execution_count": 18,
   "metadata": {},
   "outputs": [
    {
     "name": "stdout",
     "output_type": "stream",
     "text": [
      "../data/raw_band_data/data1\n",
      "360\n",
      "../data/raw_band_data/data2\n",
      "304\n",
      "../data/raw_band_data/data3\n",
      "296\n",
      "../data/raw_band_data/data4\n",
      "37\n",
      "(25763, 6)\n"
     ]
    }
   ],
   "source": [
    "band_data_dir = '../data/raw_band_data'\n",
    "\n",
    "all_dfs = pd.DataFrame()\n",
    "\n",
    "for folder_name in os.listdir(band_data_dir):\n",
    "    if folder_name.startswith('data'):\n",
    "        folder_path = os.path.join(band_data_dir, folder_name)\n",
    "        print(folder_path)\n",
    "        if os.path.isdir(folder_path):\n",
    "            folder_dfs = read_parquet_files(data_directory=folder_path)\n",
    "            all_dfs = pd.concat([all_dfs, folder_dfs])\n",
    "\n",
    "print(all_dfs.shape)    \n",
    "all_dfs.to_csv('../data/all_data_steps_light.csv')\n"
   ]
  },
  {
   "cell_type": "code",
   "execution_count": 16,
   "metadata": {},
   "outputs": [
    {
     "data": {
      "text/plain": [
       "996"
      ]
     },
     "execution_count": 16,
     "metadata": {},
     "output_type": "execute_result"
    }
   ],
   "source": [
    "all_dfs['user_id'].unique().size"
   ]
  },
  {
   "cell_type": "code",
   "execution_count": 17,
   "metadata": {},
   "outputs": [
    {
     "data": {
      "text/plain": [
       "<Axes: >"
      ]
     },
     "execution_count": 17,
     "metadata": {},
     "output_type": "execute_result"
    },
    {
     "data": {
      "image/png": "[encoded data removed]",
      "text/plain": [
       "<Figure size 640x480 with 1 Axes>"
      ]
     },
     "metadata": {},
     "output_type": "display_data"
    }
   ],
   "source": [
    "all_dfs['quarter'].hist()"
   ]
  },
  {
   "cell_type": "code",
   "execution_count": null,
   "metadata": {},
   "outputs": [],
   "source": []
  }
 ],
 "metadata": {
  "kernelspec": {
   "display_name": "quera",
   "language": "python",
   "name": "python3"
  },
  "language_info": {
   "codemirror_mode": {
    "name": "ipython",
    "version": 3
   },
   "file_extension": ".py",
   "mimetype": "text/x-python",
   "name": "python",
   "nbconvert_exporter": "python",
   "pygments_lexer": "ipython3",
   "version": "3.11.9"
  }
 },
 "nbformat": 4,
 "nbformat_minor": 2
}
