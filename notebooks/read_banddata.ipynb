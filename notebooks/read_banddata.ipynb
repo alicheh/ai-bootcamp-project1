{
 "cells": [
  {
   "cell_type": "code",
   "execution_count": 2,
   "metadata": {},
   "outputs": [],
   "source": [
    "import pyarrow.parquet as pa \n",
    "import pandas as pd\n",
    "import numpy as np\n",
    "from pandas import DataFrame\n",
    "import matplotlib.pyplot as plt\n",
    "import os"
   ]
  },
  {
   "cell_type": "code",
   "execution_count": 3,
   "metadata": {},
   "outputs": [
    {
     "data": {
      "text/plain": [
       "count    37760.0\n",
       "mean         0.0\n",
       "std          0.0\n",
       "min          0.0\n",
       "25%          0.0\n",
       "50%          0.0\n",
       "75%          0.0\n",
       "max          0.0\n",
       "Name: non-wear_flag, dtype: float64"
      ]
     },
     "execution_count": 3,
     "metadata": {},
     "output_type": "execute_result"
    }
   ],
   "source": [
    "table = pa.read_table('../data/part-0.parquet')\n",
    "df1 = table.to_pandas()\n",
    "df1['non-wear_flag'].describe()\n"
   ]
  },
  {
   "cell_type": "code",
   "execution_count": 4,
   "metadata": {},
   "outputs": [
    {
     "name": "stdout",
     "output_type": "stream",
     "text": [
      "<class 'pandas.core.frame.DataFrame'>\n",
      "RangeIndex: 37760 entries, 0 to 37759\n",
      "Data columns (total 13 columns):\n",
      " #   Column               Non-Null Count  Dtype  \n",
      "---  ------               --------------  -----  \n",
      " 0   step                 37760 non-null  uint32 \n",
      " 1   X                    37760 non-null  float32\n",
      " 2   Y                    37760 non-null  float32\n",
      " 3   Z                    37760 non-null  float32\n",
      " 4   enmo                 37760 non-null  float32\n",
      " 5   anglez               37760 non-null  float32\n",
      " 6   non-wear_flag        37760 non-null  float32\n",
      " 7   light                37760 non-null  float32\n",
      " 8   battery_voltage      37760 non-null  float32\n",
      " 9   time_of_day          37760 non-null  int64  \n",
      " 10  weekday              37760 non-null  int8   \n",
      " 11  quarter              37760 non-null  int8   \n",
      " 12  relative_date_PCIAT  37760 non-null  float32\n",
      "dtypes: float32(9), int64(1), int8(2), uint32(1)\n",
      "memory usage: 1.8 MB\n",
      "None\n"
     ]
    }
   ],
   "source": [
    "df2 = pa.read_table('../data/part-0.parquet').to_pandas()\n",
    "\n",
    "print(df2.info())\n"
   ]
  },
  {
   "cell_type": "code",
   "execution_count": 5,
   "metadata": {},
   "outputs": [],
   "source": [
    "df2['datetime'] = pd.to_datetime(df2['time_of_day'], unit='ns')\n",
    "df2['time'] = df2['datetime'].apply(lambda x: x.time()) "
   ]
  },
  {
   "cell_type": "code",
   "execution_count": 6,
   "metadata": {},
   "outputs": [
    {
     "data": {
      "text/html": [
       "<div>\n",
       "<style scoped>\n",
       "    .dataframe tbody tr th:only-of-type {\n",
       "        vertical-align: middle;\n",
       "    }\n",
       "\n",
       "    .dataframe tbody tr th {\n",
       "        vertical-align: top;\n",
       "    }\n",
       "\n",
       "    .dataframe thead th {\n",
       "        text-align: right;\n",
       "    }\n",
       "</style>\n",
       "<table border=\"1\" class=\"dataframe\">\n",
       "  <thead>\n",
       "    <tr style=\"text-align: right;\">\n",
       "      <th></th>\n",
       "      <th>step</th>\n",
       "      <th>X</th>\n",
       "      <th>Y</th>\n",
       "      <th>Z</th>\n",
       "      <th>enmo</th>\n",
       "      <th>anglez</th>\n",
       "      <th>non-wear_flag</th>\n",
       "      <th>light</th>\n",
       "      <th>battery_voltage</th>\n",
       "      <th>time_of_day</th>\n",
       "      <th>weekday</th>\n",
       "      <th>quarter</th>\n",
       "      <th>relative_date_PCIAT</th>\n",
       "      <th>datetime</th>\n",
       "      <th>time</th>\n",
       "    </tr>\n",
       "  </thead>\n",
       "  <tbody>\n",
       "    <tr>\n",
       "      <th>0</th>\n",
       "      <td>0</td>\n",
       "      <td>0.083672</td>\n",
       "      <td>0.271432</td>\n",
       "      <td>0.928594</td>\n",
       "      <td>0.041574</td>\n",
       "      <td>72.262444</td>\n",
       "      <td>0.0</td>\n",
       "      <td>9.0</td>\n",
       "      <td>4172.00</td>\n",
       "      <td>64260.0</td>\n",
       "      <td>5</td>\n",
       "      <td>2</td>\n",
       "      <td>10.0</td>\n",
       "      <td>1970-01-01 17:51:00</td>\n",
       "      <td>17:51:00</td>\n",
       "    </tr>\n",
       "    <tr>\n",
       "      <th>1</th>\n",
       "      <td>1</td>\n",
       "      <td>-0.044167</td>\n",
       "      <td>0.185417</td>\n",
       "      <td>0.952292</td>\n",
       "      <td>0.135635</td>\n",
       "      <td>75.381409</td>\n",
       "      <td>0.0</td>\n",
       "      <td>0.0</td>\n",
       "      <td>4172.25</td>\n",
       "      <td>64265.0</td>\n",
       "      <td>5</td>\n",
       "      <td>2</td>\n",
       "      <td>10.0</td>\n",
       "      <td>1970-01-01 17:51:05</td>\n",
       "      <td>17:51:05</td>\n",
       "    </tr>\n",
       "    <tr>\n",
       "      <th>2</th>\n",
       "      <td>2</td>\n",
       "      <td>0.343646</td>\n",
       "      <td>0.053802</td>\n",
       "      <td>0.769844</td>\n",
       "      <td>0.107035</td>\n",
       "      <td>57.290592</td>\n",
       "      <td>0.0</td>\n",
       "      <td>7.8</td>\n",
       "      <td>4172.50</td>\n",
       "      <td>64270.0</td>\n",
       "      <td>5</td>\n",
       "      <td>2</td>\n",
       "      <td>10.0</td>\n",
       "      <td>1970-01-01 17:51:10</td>\n",
       "      <td>17:51:10</td>\n",
       "    </tr>\n",
       "    <tr>\n",
       "      <th>3</th>\n",
       "      <td>3</td>\n",
       "      <td>0.114870</td>\n",
       "      <td>0.156953</td>\n",
       "      <td>0.770130</td>\n",
       "      <td>0.128197</td>\n",
       "      <td>63.518497</td>\n",
       "      <td>0.0</td>\n",
       "      <td>15.6</td>\n",
       "      <td>4172.75</td>\n",
       "      <td>64275.0</td>\n",
       "      <td>5</td>\n",
       "      <td>2</td>\n",
       "      <td>10.0</td>\n",
       "      <td>1970-01-01 17:51:15</td>\n",
       "      <td>17:51:15</td>\n",
       "    </tr>\n",
       "    <tr>\n",
       "      <th>4</th>\n",
       "      <td>4</td>\n",
       "      <td>0.130990</td>\n",
       "      <td>0.292057</td>\n",
       "      <td>0.708672</td>\n",
       "      <td>0.045588</td>\n",
       "      <td>50.506268</td>\n",
       "      <td>0.0</td>\n",
       "      <td>23.4</td>\n",
       "      <td>4173.00</td>\n",
       "      <td>64280.0</td>\n",
       "      <td>5</td>\n",
       "      <td>2</td>\n",
       "      <td>10.0</td>\n",
       "      <td>1970-01-01 17:51:20</td>\n",
       "      <td>17:51:20</td>\n",
       "    </tr>\n",
       "  </tbody>\n",
       "</table>\n",
       "</div>"
      ],
      "text/plain": [
       "   step         X         Y         Z      enmo     anglez  non-wear_flag  \\\n",
       "0     0  0.083672  0.271432  0.928594  0.041574  72.262444            0.0   \n",
       "1     1 -0.044167  0.185417  0.952292  0.135635  75.381409            0.0   \n",
       "2     2  0.343646  0.053802  0.769844  0.107035  57.290592            0.0   \n",
       "3     3  0.114870  0.156953  0.770130  0.128197  63.518497            0.0   \n",
       "4     4  0.130990  0.292057  0.708672  0.045588  50.506268            0.0   \n",
       "\n",
       "   light  battery_voltage  time_of_day  weekday  quarter  relative_date_PCIAT  \\\n",
       "0    9.0          4172.00      64260.0        5        2                 10.0   \n",
       "1    0.0          4172.25      64265.0        5        2                 10.0   \n",
       "2    7.8          4172.50      64270.0        5        2                 10.0   \n",
       "3   15.6          4172.75      64275.0        5        2                 10.0   \n",
       "4   23.4          4173.00      64280.0        5        2                 10.0   \n",
       "\n",
       "             datetime      time  \n",
       "0 1970-01-01 17:51:00  17:51:00  \n",
       "1 1970-01-01 17:51:05  17:51:05  \n",
       "2 1970-01-01 17:51:10  17:51:10  \n",
       "3 1970-01-01 17:51:15  17:51:15  \n",
       "4 1970-01-01 17:51:20  17:51:20  "
      ]
     },
     "execution_count": 6,
     "metadata": {},
     "output_type": "execute_result"
    }
   ],
   "source": [
    "df2['time_of_day'] = df2['time_of_day'] / (10 ** 9) # convert ns to s\n",
    "df2.head()\n"
   ]
  },
  {
   "cell_type": "code",
   "execution_count": 7,
   "metadata": {},
   "outputs": [
    {
     "data": {
      "text/plain": [
       "<Axes: >"
      ]
     },
     "execution_count": 7,
     "metadata": {},
     "output_type": "execute_result"
    },
    {
     "data": {
      "image/png": "[encoded data removed]",
      "text/plain": [
       "<Figure size 640x480 with 1 Axes>"
      ]
     },
     "metadata": {},
     "output_type": "display_data"
    }
   ],
   "source": [
    "df2['time_of_day'].hist()"
   ]
  },
  {
   "cell_type": "code",
   "execution_count": 8,
   "metadata": {},
   "outputs": [
    {
     "data": {
      "text/plain": [
       "<Axes: >"
      ]
     },
     "execution_count": 8,
     "metadata": {},
     "output_type": "execute_result"
    },
    {
     "data": {
      "image/png": "[encoded data removed]",
      "text/plain": [
       "<Figure size 640x480 with 1 Axes>"
      ]
     },
     "metadata": {},
     "output_type": "display_data"
    }
   ],
   "source": [
    "df2['weekday'].plot()"
   ]
  },
  {
   "cell_type": "code",
   "execution_count": 9,
   "metadata": {},
   "outputs": [
    {
     "data": {
      "text/plain": [
       "<Axes: >"
      ]
     },
     "execution_count": 9,
     "metadata": {},
     "output_type": "execute_result"
    },
    {
     "data": {
      "image/png": "[encoded data removed]",
      "text/plain": [
       "<Figure size 640x480 with 1 Axes>"
      ]
     },
     "metadata": {},
     "output_type": "display_data"
    }
   ],
   "source": [
    "df1['weekday'].plot()"
   ]
  },
  {
   "cell_type": "code",
   "execution_count": 10,
   "metadata": {},
   "outputs": [
    {
     "data": {
      "text/plain": [
       "<Axes: >"
      ]
     },
     "execution_count": 10,
     "metadata": {},
     "output_type": "execute_result"
    },
    {
     "data": {
      "image/png": "[encoded data removed]",
      "text/plain": [
       "<Figure size 640x480 with 1 Axes>"
      ]
     },
     "metadata": {},
     "output_type": "display_data"
    }
   ],
   "source": [
    "df2['time_of_day'].plot()"
   ]
  },
  {
   "cell_type": "code",
   "execution_count": 11,
   "metadata": {},
   "outputs": [],
   "source": [
    "df2['time_of_day'] = df2['time_of_day'] / (10 ** 9) # convert ns to s"
   ]
  },
  {
   "cell_type": "code",
   "execution_count": 12,
   "metadata": {},
   "outputs": [
    {
     "name": "stdout",
     "output_type": "stream",
     "text": [
      "    day_number  weekday\n",
      "0            2        5\n",
      "1            3        6\n",
      "2            4        7\n",
      "3            5        1\n",
      "4            6        2\n",
      "5            7        3\n",
      "6            8        4\n",
      "7            9        5\n",
      "8           10        6\n",
      "9           11        7\n",
      "10          12        1\n",
      "11          13        2\n",
      "12          14        3\n",
      "13          15        4\n",
      "14          16        5\n",
      "15          17        6\n",
      "16          18        7\n",
      "17          19        1\n",
      "18          20        2\n",
      "19          21        3\n",
      "20          22        6\n",
      "21          23        7\n",
      "22          24        1\n",
      "23          25        2\n",
      "24          26        3\n",
      "25          27        4\n",
      "26          28        5\n",
      "27          29        6\n",
      "28          30        7\n",
      "29          31        1\n",
      "30          32        2\n",
      "31          33        3\n",
      "32          34        4\n",
      "33          35        5\n",
      "34          36        6\n",
      "35          37        1\n",
      "36          38        2\n"
     ]
    }
   ],
   "source": [
    "# 1) Detect day changes\n",
    "df2['day_change'] = df2['weekday'].ne(df2['weekday'].shift(1))\n",
    "# Explanation: \n",
    "#   .shift(1) looks at the previous row’s day_of_week\n",
    "#   .ne(...) means \"not equal\" (True if they differ, False if they’re equal)\n",
    "\n",
    "# 2) Build a day_number by taking the cumulative sum of these changes.\n",
    "#    We fill missing values for the first row with False and then add 1.\n",
    "df2['day_change'] = df2['day_change'].fillna(False)\n",
    "df2['day_number'] = df2['day_change'].cumsum() + 1\n",
    "\n",
    "# Now df['day_number'] goes from 1 up to the total count of days (e.g. 30).\n",
    "\n",
    "# 3) Compute the mean of 'light' for each calendar day\n",
    "daily_mean_light = df2.groupby('day_number')['weekday']\n",
    "df_daily = df2.groupby('day_number')['light'].mean()\n",
    "\n",
    "day_map = (\n",
    "    df2\n",
    "    .groupby('day_number')['weekday']\n",
    "    .first()  # Or .unique() if you like\n",
    "    .reset_index()\n",
    ")\n",
    "\n",
    "print(day_map)\n",
    "# Reindex the daily data to days 1..30\n",
    "df_daily = df_daily.reindex(range(1, 31))\n"
   ]
  },
  {
   "cell_type": "code",
   "execution_count": 13,
   "metadata": {},
   "outputs": [
    {
     "name": "stdout",
     "output_type": "stream",
     "text": [
      "[ 1  2  3  4  5  6  7  8  9 10 11 12 13 14 15 16 17 18 19 20 21 22 23 24\n",
      " 25 26 27 28 29 30]\n",
      "(30,)\n",
      "    day_number  weekday\n",
      "0            1        5\n",
      "1            2        6\n",
      "2            3        7\n",
      "3            4        1\n",
      "4            5        2\n",
      "5            6        3\n",
      "6            7        4\n",
      "7            8        5\n",
      "8            9        6\n",
      "9           10        7\n",
      "10          11        1\n",
      "11          12        2\n",
      "12          13        3\n",
      "13          14        4\n",
      "14          15        5\n",
      "15          16        6\n",
      "16          17        7\n",
      "17          18        1\n",
      "18          19        2\n",
      "19          20        3\n",
      "20          21        4\n",
      "21          22        5\n",
      "22          23        6\n",
      "23          24        7\n",
      "24          25        1\n",
      "25          26        2\n",
      "26          27        3\n",
      "27          28        4\n",
      "28          29        5\n",
      "29          30        6\n"
     ]
    }
   ],
   "source": [
    "temp30 = np.arange(1, 31, 1)\n",
    "print(temp30)\n",
    "print(temp30.shape)\n",
    "month = pd.DataFrame(temp30, columns=['day_number'])\n",
    "month['weekday'] = (month['day_number']+3) % 7 + 1\n",
    "print(month)"
   ]
  },
  {
   "cell_type": "code",
   "execution_count": 14,
   "metadata": {},
   "outputs": [
    {
     "name": "stdout",
     "output_type": "stream",
     "text": [
      "    day_number  weekday  day_number_r_  weekday_r_\n",
      "0            1        5              3           6\n",
      "1            2        6              4           7\n",
      "2            3        7              5           1\n",
      "3            4        1              6           2\n",
      "4            5        2              7           3\n",
      "5            6        3              8           4\n",
      "6            7        4              9           5\n",
      "7            8        5             10           6\n",
      "8            9        6             11           7\n",
      "9           10        7             12           1\n",
      "10          11        1             13           2\n",
      "11          12        2             14           3\n",
      "12          13        3             15           4\n",
      "13          14        4             16           5\n",
      "14          15        5             17           6\n",
      "15          16        6             18           7\n",
      "16          17        7             19           1\n",
      "17          18        1             20           2\n",
      "18          19        2             21           3\n",
      "19          20        3             22           6\n",
      "20          21        4             23           7\n",
      "21          22        5             24           1\n",
      "22          23        6             25           2\n",
      "23          24        7             26           3\n",
      "24          25        1             27           4\n",
      "25          26        2             28           5\n",
      "26          27        3             29           6\n",
      "27          28        4             30           7\n",
      "28          29        5             31           1\n",
      "29          30        6             32           2\n"
     ]
    }
   ],
   "source": [
    "print(month.join(day_map, on='day_number', how='left', rsuffix='_r_'))"
   ]
  },
  {
   "cell_type": "code",
   "execution_count": 15,
   "metadata": {},
   "outputs": [
    {
     "data": {
      "text/plain": [
       "<Axes: >"
      ]
     },
     "execution_count": 15,
     "metadata": {},
     "output_type": "execute_result"
    },
    {
     "data": {
      "image/png": "[encoded data removed]",
      "text/plain": [
       "<Figure size 1800x500 with 1 Axes>"
      ]
     },
     "metadata": {},
     "output_type": "display_data"
    }
   ],
   "source": [
    "df2.enmo.hist(figsize=(18,5), bins=500, color='red', alpha=0.5)"
   ]
  },
  {
   "cell_type": "markdown",
   "metadata": {},
   "source": [
    "# Read folder of parquets: "
   ]
  },
  {
   "cell_type": "code",
   "execution_count": null,
   "metadata": {},
   "outputs": [],
   "source": [
    "def process_dataframe(df: DataFrame) -> DataFrame:\n",
    "\n",
    "    # convert ns to s\n",
    "    df['time_of_day'] = df['time_of_day'] / (10 ** 9) # convert ns to s\n",
    "\n",
    "    # get day number for aggregation\n",
    "\n",
    "def get_clean_df(df: DataFrame, item_id:str) -> DataFrame:\n",
    "    # add 'day_number' to dataframe\n",
    "    # add 'user_id to dataframe\n",
    "    # drop 'non-wear_flag' == 1\n",
    "\n",
    "    df_temp = df.copy()\n",
    "    df_temp['day_change'] = df_temp['weekday'].ne(df_temp['weekday'].shift(1))\n",
    "    # Explanation: \n",
    "    #   .shift(1) looks at the previous row’s day_of_week\n",
    "    #   .ne(...) means \"not equal\" (True if they differ, False if they’re equal)\n",
    "\n",
    "    # 2) Build a day_number by taking the cumulative sum of these changes.\n",
    "    #    We fill missing values for the first row with False and then add 1.\n",
    "    df_temp['day_change'] = df_temp['day_change'].fillna(False)\n",
    "    df_temp['day_number'] = df_temp['day_change'].cumsum()\n",
    "\n",
    "    df_temp['user_id'] = item_id\n",
    "    df_temp = df_temp[df_temp['non-wear_flag'] == 0]\n",
    "    \n",
    "    return df_temp\n",
    "\n",
    "\n",
    "enmo_thresholds=  (0.0563, 0.1916, 0.6958) # inactive, light, moderate, and vigorous\n",
    "\n",
    "def approximate_steps(enmo: float) -> int:\n",
    "    if enmo < enmo_thresholds[0]:\n",
    "        return 0\n",
    "    elif enmo < enmo_thresholds[1]:\n",
    "        return 1\n",
    "    elif enmo < enmo_thresholds[2]:\n",
    "        return 3\n",
    "    else:\n",
    "        return 5\n",
    "\n",
    "# get daily light and steps\n",
    "def get_daily_light_and_steps(df: DataFrame) -> DataFrame:\n",
    "    df_copy = df.copy()\n",
    "    df_copy['enmo_steps'] = df_copy['enmo'].apply(approximate_steps)\n",
    "    df_daily_light = pd.DataFrame(df_copy.groupby(['day_number','weekday'], as_index=False)\n",
    "                                  .aggregate({'light': 'mean', 'enmo_steps': 'sum', 'quarter': 'first'})\n",
    "                                .rename(columns={'light': 'daily_light_mean', 'enmo_steps': 'daily_steps'}))\n",
    "\n",
    "    return df_daily_light\n",
    "\n",
    "def get_daily_steps(df: DataFrame) -> DataFrame:\n",
    "    df_daily_steps = pd.DataFrame(df.groupby(['day_number','weekday'])['enmo'].sum())\n",
    "    return df_daily_steps\n",
    "\n"
   ]
  },
  {
   "cell_type": "code",
   "execution_count": 17,
   "metadata": {},
   "outputs": [],
   "source": [
    "def read_parquet_files(data_directory='data') -> DataFrame:\n",
    "    \n",
    "    data_dir = data_directory\n",
    "    steps_light_df = pd.DataFrame()\n",
    "    print(len(os.listdir(data_dir)))\n",
    "    for item_name in os.listdir(data_dir):\n",
    "        item_path = os.path.join(data_dir, item_name)\n",
    "\n",
    "        if os.path.isdir(item_path) and item_name.startswith(\"id=\"):\n",
    "            item_id = item_name.split(\"=\")[1]\n",
    "            parquet_file_path = os.path.join(item_path, 'part-0.parquet')\n",
    "            \n",
    "            if os.path.exists(parquet_file_path):\n",
    "                # print(f\"Now processing: {parquet_file_path}\")\n",
    "                \n",
    "                df = pd.read_parquet(parquet_file_path)\n",
    "                df = get_clean_df(df, item_id=item_id)\n",
    "                \n",
    "                # print(df.head())\n",
    "                daily_lights = get_daily_light_and_steps(df)\n",
    "                # print(daily_lights.shape)\n",
    "                daily_lights['user_id'] = item_id\n",
    "                # print(daily_lights)\n",
    "                steps_light_df = pd.concat([steps_light_df, daily_lights])\n",
    "                \n",
    "                del df\n",
    "    return steps_light_df\n",
    "\n",
    "# result = read_parquet_files(data_directory='data')\n",
    "# print(result.shape)\n",
    "# print(result)\n",
    "# result.to_csv('steps_light.csv', index=True)\n"
   ]
  },
  {
   "cell_type": "code",
   "execution_count": 18,
   "metadata": {},
   "outputs": [
    {
     "name": "stdout",
     "output_type": "stream",
     "text": [
      "../data/raw_band_data/data1\n",
      "360\n",
      "../data/raw_band_data/data2\n",
      "304\n",
      "../data/raw_band_data/data3\n",
      "296\n",
      "../data/raw_band_data/data4\n",
      "37\n",
      "(25763, 6)\n"
     ]
    }
   ],
   "source": [
    "band_data_dir = '../data/raw_band_data'\n",
    "\n",
    "all_dfs = pd.DataFrame()\n",
    "\n",
    "for folder_name in os.listdir(band_data_dir):\n",
    "    if folder_name.startswith('data'):\n",
    "        folder_path = os.path.join(band_data_dir, folder_name)\n",
    "        print(folder_path)\n",
    "        if os.path.isdir(folder_path):\n",
    "            folder_dfs = read_parquet_files(data_directory=folder_path)\n",
    "            all_dfs = pd.concat([all_dfs, folder_dfs])\n",
    "\n",
    "print(all_dfs.shape)    \n",
    "all_dfs.to_csv('../data/all_data_steps_light.csv')\n"
   ]
  },
  {
   "cell_type": "code",
   "execution_count": 22,
   "metadata": {},
   "outputs": [
    {
     "data": {
      "text/plain": [
       "996"
      ]
     },
     "execution_count": 22,
     "metadata": {},
     "output_type": "execute_result"
    }
   ],
   "source": [
    "all_dfs['user_id'].unique().size"
   ]
  },
  {
   "cell_type": "code",
   "execution_count": 20,
   "metadata": {},
   "outputs": [
    {
     "data": {
      "text/plain": [
       "<Axes: >"
      ]
     },
     "execution_count": 20,
     "metadata": {},
     "output_type": "execute_result"
    },
    {
     "data": {
      "image/png": "[encoded data removed]",
      "text/plain": [
       "<Figure size 640x480 with 1 Axes>"
      ]
     },
     "metadata": {},
     "output_type": "display_data"
    }
   ],
   "source": [
    "all_dfs['quarter'].hist()"
   ]
  },
  {
   "cell_type": "markdown",
   "metadata": {},
   "source": [
    "# Compute Steps based on Activity Level: "
   ]
  },
  {
   "cell_type": "code",
   "execution_count": 21,
   "metadata": {},
   "outputs": [],
   "source": [
    "enmo_thresholds=  (0.0563, 0.1916, 0.6958) # inactive, light, moderate, and vigorous\n",
    "\n",
    "def approximate_steps(enmo: float) -> int:\n",
    "    if enmo < enmo_thresholds[0]:\n",
    "        return 0\n",
    "    elif enmo < enmo_thresholds[1]:\n",
    "        return 1\n",
    "    elif enmo < enmo_thresholds[2]:\n",
    "        return 3\n",
    "    else:\n",
    "        return 5\n",
    "\n",
    "def get_daily_steps(df: DataFrame) -> DataFrame:\n",
    "    df_copy = df.copy()\n",
    "    df_copy['enmo_steps'] = df_copy['enmo'].apply(approximate_steps)\n",
    "    df_daily_steps = pd.DataFrame(df_copy.groupby(['day_number','weekday'])['enmo_steps'].sum())\n",
    "    return df_daily_steps\n"
   ]
  },
  {
   "cell_type": "code",
   "execution_count": 25,
   "metadata": {},
   "outputs": [
    {
     "name": "stdout",
     "output_type": "stream",
     "text": [
      "count    25763.000000\n",
      "mean      2547.844583\n",
      "std       2541.293862\n",
      "min          0.000000\n",
      "25%         11.000000\n",
      "50%       2081.000000\n",
      "75%       4421.000000\n",
      "max      14771.000000\n",
      "Name: daily_steps, dtype: float64\n",
      "count    25763.000000\n",
      "mean       393.531273\n",
      "std        382.779633\n",
      "min          0.000000\n",
      "25%         13.045191\n",
      "50%        346.292000\n",
      "75%        658.574520\n",
      "max       4555.529000\n",
      "Name: daily_steps, dtype: float64\n"
     ]
    }
   ],
   "source": [
    "# compare the two steps: \n",
    "\n",
    "without_enmo = pd.read_csv('../data/all_data_steps_without_enmo.csv')\n",
    "with_enmo = pd.read_csv('../data/all_data_steps_light.csv')\n",
    "\n",
    "print(with_enmo.daily_steps.describe())\n",
    "print(without_enmo.daily_steps.describe())"
   ]
  },
  {
   "cell_type": "code",
   "execution_count": null,
   "metadata": {},
   "outputs": [],
   "source": []
  }
 ],
 "metadata": {
  "kernelspec": {
   "display_name": "quera",
   "language": "python",
   "name": "python3"
  },
  "language_info": {
   "codemirror_mode": {
    "name": "ipython",
    "version": 3
   },
   "file_extension": ".py",
   "mimetype": "text/x-python",
   "name": "python",
   "nbconvert_exporter": "python",
   "pygments_lexer": "ipython3",
   "version": "3.11.9"
  }
 },
 "nbformat": 4,
 "nbformat_minor": 2
}
